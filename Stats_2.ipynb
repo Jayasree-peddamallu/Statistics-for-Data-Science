{
 "cells": [
  {
   "cell_type": "markdown",
   "id": "88461e19-6dc7-48d2-934c-d5fc0647525f",
   "metadata": {},
   "source": [
    "Q1. What are the three measures of central tendency?\n",
    "\n",
    "Answer :  The three measures of central tendency are:\n",
    "\n",
    "Mean: The mean is the sum of all the values in a dataset divided by the total number of values. It is also known as the average.\n",
    "\n",
    "Median: The median is the middle value in a dataset when the values are arranged in order. If there is an even number of values, the median is the average of the two middle values.\n",
    "\n",
    "Mode: The mode is the value that appears most frequently in a dataset. A dataset can have one or more modes, or it can have no mode if no value appears more than once."
   ]
  },
  {
   "cell_type": "markdown",
   "id": "651005d3-6aae-40fd-b393-4d0bcf0909cb",
   "metadata": {},
   "source": [
    "Q2. What is the difference between the mean, median, and mode? How are they used to measure the central tendency of a dataset?\n",
    "\n",
    "Answer :  The mean, median, and mode are all measures of central tendency, but they differ in how they describe the typical value of a dataset.\n",
    "\n",
    "The mean is the arithmetic average of a dataset and is found by adding up all the values in the dataset and dividing by the total number of values. It is sensitive to outliers, meaning that if there are extreme values in the dataset, they can significantly affect the value of the mean. The mean is often used as a measure of central tendency when the dataset is normally distributed.\n",
    "\n",
    "The median is the middle value in a dataset when the values are arranged in order. It is less sensitive to outliers than the mean, meaning that extreme values do not affect the median as much. The median is often used as a measure of central tendency when the dataset is skewed or has outliers.\n",
    "\n",
    "The mode is the value that appears most frequently in a dataset. It is useful for identifying the most common value in a dataset and can be used as a measure of central tendency when the dataset is nominal or categorical.\n",
    "\n",
    "In summary, the mean, median, and mode are used to describe the typical value of a dataset. The mean is sensitive to outliers and is used for normally distributed data. The median is less sensitive to outliers and is used for skewed or outlier-prone data. The mode is used for nominal or categorical data to identify the most common value."
   ]
  },
  {
   "cell_type": "markdown",
   "id": "4945d03c-0af4-4562-9fe8-ce5d27e94c00",
   "metadata": {},
   "source": [
    "Q3. Measure the three measures of central tendency for the given height data:\n",
    "[178,177,176,177,178.2,178,175,179,180,175,178.9,176.2,177,172.5,178,176.5]"
   ]
  },
  {
   "cell_type": "code",
   "execution_count": 2,
   "id": "5ada2b1d-604d-4fcd-831d-e214789bc995",
   "metadata": {},
   "outputs": [
    {
     "name": "stdout",
     "output_type": "stream",
     "text": [
      "177.01875\n",
      "177.0\n",
      "ModeResult(mode=array([177.]), count=array([3]))\n"
     ]
    },
    {
     "name": "stderr",
     "output_type": "stream",
     "text": [
      "/tmp/ipykernel_70/2035120905.py:6: FutureWarning: Unlike other reduction functions (e.g. `skew`, `kurtosis`), the default behavior of `mode` typically preserves the axis it acts along. In SciPy 1.11.0, this behavior will change: the default value of `keepdims` will become False, the `axis` over which the statistic is taken will be eliminated, and the value None will no longer be accepted. Set `keepdims` to True or False to avoid this warning.\n",
      "  print(stats.mode(heights))\n"
     ]
    }
   ],
   "source": [
    "import numpy as np\n",
    "from scipy import stats\n",
    "heights= [178,177,176,177,178.2,178,175,179,180,175,178.9,176.2,177,172.5,178,176.5]\n",
    "print(np.mean(heights))\n",
    "print(np.median(heights))\n",
    "print(stats.mode(heights))"
   ]
  },
  {
   "cell_type": "code",
   "execution_count": 3,
   "id": "83cde3bd-bd85-47e0-a909-daad39bc0183",
   "metadata": {},
   "outputs": [
    {
     "name": "stdout",
     "output_type": "stream",
     "text": [
      "Mean height: 177.01875\n",
      "Median height: 177.0\n",
      "Mode height: 178\n"
     ]
    }
   ],
   "source": [
    "\n",
    "import statistics\n",
    "\n",
    "heights = [178, 177, 176, 177, 178.2, 178, 175, 179, 180, 175, 178.9, 176.2, 177, 172.5, 178, 176.5]\n",
    "mean_height = statistics.mean(heights)\n",
    "print(\"Mean height:\", mean_height)\n",
    "median_height = statistics.median(heights)\n",
    "print(\"Median height:\", median_height)\n",
    "mode_height = statistics.mode(heights)\n",
    "print(\"Mode height:\", mode_height)\n"
   ]
  },
  {
   "cell_type": "markdown",
   "id": "3a8226eb-55be-4a9a-9d79-8407b00ed03c",
   "metadata": {},
   "source": [
    "Q4. Find the standard deviation for the given data:\n",
    "[178,177,176,177,178.2,178,175,179,180,175,178.9,176.2,177,172.5,178,176.5]"
   ]
  },
  {
   "cell_type": "code",
   "execution_count": 7,
   "id": "8c6466dd-0816-42ff-be97-87c989a1493b",
   "metadata": {},
   "outputs": [
    {
     "name": "stdout",
     "output_type": "stream",
     "text": [
      "1.7885814036548633\n"
     ]
    }
   ],
   "source": [
    "import numpy as np\n",
    "data = [178, 177, 176, 177, 178.2, 178, 175, 179, 180, 175, 178.9, 176.2, 177, 172.5, 178, 176.5]\n",
    "print(np.std(data))"
   ]
  },
  {
   "cell_type": "code",
   "execution_count": 8,
   "id": "29ba3312-087a-4564-8a99-8c63446ac459",
   "metadata": {},
   "outputs": [
    {
     "name": "stdout",
     "output_type": "stream",
     "text": [
      "Standard deviation: 1.8472389305844188\n"
     ]
    }
   ],
   "source": [
    "import statistics\n",
    "\n",
    "data = [178, 177, 176, 177, 178.2, 178, 175, 179, 180, 175, 178.9, 176.2, 177, 172.5, 178, 176.5]\n",
    "\n",
    "std_dev = statistics.stdev(data)\n",
    "\n",
    "print(\"Standard deviation:\", std_dev)\n"
   ]
  },
  {
   "cell_type": "markdown",
   "id": "f2279d37-ef11-419f-a49c-ba827da30e0a",
   "metadata": {},
   "source": [
    "Q5. How are measures of dispersion such as range, variance, and standard deviation used to describe\n",
    "the spread of a dataset? Provide an example.\n",
    "\n",
    "Answer : Measures of dispersion, such as range, variance, and standard deviation, are used to describe how spread out a dataset is. They provide information about how much the values in the dataset vary from the central tendency measure, such as the mean or median.\n",
    "\n",
    "Range: The range is the difference between the maximum and minimum values in a dataset. It provides a simple way to measure the spread of a dataset but is affected by outliers. A larger range indicates a wider spread of values in the dataset.\n",
    "\n",
    "Variance: The variance measures how much the values in a dataset deviate from the mean. It is calculated by taking the sum of the squared differences between each value and the mean, then dividing by the number of values in the dataset. A larger variance indicates more spread in the data.\n",
    "\n",
    "Standard deviation: The standard deviation is the square root of the variance and is a measure of the average distance of the values from the mean. It is often used to describe the spread of normally distributed data. A larger standard deviation indicates more spread in the data."
   ]
  },
  {
   "cell_type": "code",
   "execution_count": 9,
   "id": "cfb1ae42-8ec3-4e2b-860c-066215715734",
   "metadata": {},
   "outputs": [
    {
     "name": "stdout",
     "output_type": "stream",
     "text": [
      "Range: 40\n",
      "Variance: 250\n",
      "Standard deviation: 15.811388300841896\n"
     ]
    }
   ],
   "source": [
    "import statistics\n",
    "numbers = [10, 20, 30, 40, 50]\n",
    "\n",
    "data_range = max(numbers) - min(numbers)\n",
    "print(\"Range:\", data_range)\n",
    "\n",
    "variance = statistics.variance(numbers)\n",
    "print(\"Variance:\", variance)\n",
    "\n",
    "std_dev = statistics.stdev(numbers)\n",
    "print(\"Standard deviation:\", std_dev)\n"
   ]
  },
  {
   "cell_type": "markdown",
   "id": "973db35e-2df8-4e5d-bd10-8bdf5f700676",
   "metadata": {},
   "source": [
    "Q6. What is a Venn diagram?\n",
    "\n",
    "Answer : A Venn diagram is a graphical representation of the relationships between sets, often used in mathematics, statistics, logic, and computer science. It is a diagram consisting of overlapping circles (or other shapes) that represent the sets, and the areas of overlap represent the elements that belong to more than one set.\n",
    "\n",
    "Venn diagrams are useful for visualizing set operations, such as intersection, union, and complement, and for illustrating logical relationships between different groups of objects or concepts. They can also be used to represent data and analyze relationships between different variables."
   ]
  },
  {
   "cell_type": "markdown",
   "id": "8e028dfb-68e6-462c-a8d2-e6800aade715",
   "metadata": {},
   "source": [
    "Q7. For the two given sets A = (2,3,4,5,6,7) & B = (0,2,6,8,10). Find:\n",
    "(i) A ⋂ B\n",
    "(ii) A ⋃ B\n",
    "\n",
    "Answer :  (i) . A ⋂ B = {2}\n",
    "(ii) . A ⋃ B = {0, 2, 3, 4, 5, 6, 7, 8, 10}\n"
   ]
  },
  {
   "cell_type": "code",
   "execution_count": 11,
   "id": "4acb0723-af52-490b-b4e3-ffeb4af16e0b",
   "metadata": {},
   "outputs": [
    {
     "name": "stdout",
     "output_type": "stream",
     "text": [
      "A ⋂ B = {2, 6}\n",
      "A ⋃ B = {0, 2, 3, 4, 5, 6, 7, 8, 10}\n"
     ]
    }
   ],
   "source": [
    "A = {2, 3, 4, 5, 6, 7}\n",
    "B = {0, 2, 6, 8, 10}\n",
    "A_intersection_B = A.intersection(B)\n",
    "print(\"A ⋂ B =\", A_intersection_B)\n",
    "\n",
    "A_union_B = A.union(B)\n",
    "print(\"A ⋃ B =\", A_union_B)\n"
   ]
  },
  {
   "cell_type": "markdown",
   "id": "6f430707-ea25-4a43-9f86-b8ff9d6ac056",
   "metadata": {},
   "source": [
    "Q8. What do you understand about skewness in data?\n",
    "\n",
    "Answer :  Skewness is a measure of the asymmetry of a probability distribution or a dataset. Skewness can be classified into three types:\n",
    "\n",
    "Symmetric: A symmetric dataset is one in which the data is evenly distributed on both sides of the central tendency. The mean, median, and mode are all equal in a symmetric dataset.\n",
    "\n",
    "Right-skewed: A right-skewed dataset is one in which the tail of the distribution extends to the right, indicating that the majority of the data is concentrated on the left-hand side of the distribution. In this case, the mean is usually greater than the median, and the mode may not be well-defined.\n",
    "\n",
    "Left-skewed: A left-skewed dataset is one in which the tail of the distribution extends to the left, indicating that the majority of the data is concentrated on the right-hand side of the distribution. In this case, the mean is usually less than the median, and the mode may not be well-defined.\n",
    "\n",
    "Skewness can be measured using various statistical methods, such as the Pearson's skewness coefficient, the Bowley's skewness coefficient, or the moment coefficient of skewness. These measures typically produce a numerical value that represents the degree and direction of skewness in the dataset. A positive value indicates right-skewness, while a negative value indicates left-skewness. A value of zero indicates a symmetric dataset.\n",
    "\n"
   ]
  },
  {
   "cell_type": "markdown",
   "id": "60be465b-27de-4e9f-8fe7-df64f612e8a5",
   "metadata": {},
   "source": [
    "Q9. If a data is right skewed then what will be the position of median with respect to mean?\n",
    "\n",
    "Answer :  If a dataset is right-skewed, then the median is typically less than the mean. This is because in a right-skewed dataset, the tail of the distribution extends to the right, indicating that there are a few very large values that pull the mean towards the right. As a result, the mean is typically higher than the median, which is the value that separates the lower 50% of the data from the upper 50%. The median is usually closer to the lower end of the data in a right-skewed distribution."
   ]
  },
  {
   "cell_type": "markdown",
   "id": "bfb4f589-251b-4561-9cc5-07b424196fed",
   "metadata": {},
   "source": [
    "Q10. Explain the difference between covariance and correlation. How are these measures used in statistical analysis?\n",
    "\n",
    "Answer : Covariance and correlation are both measures of the relationship between two variables, but they have some key differences.\n",
    "\n",
    "Covariance measures the degree to which two variables vary together. It is a measure of the joint variability of two random variables, and it is sensitive to the units of measurement. Covariance can be positive, indicating that the two variables tend to move in the same direction, or negative, indicating that they tend to move in opposite directions. However, it does not tell us the strength or direction of the relationship.\n",
    "\n",
    "Correlation, on the other hand, measures the strength and direction of the linear relationship between two variables. It is a standardized measure, which means that it is not affected by the units of measurement. Correlation can range from -1 to +1, where -1 indicates a perfect negative relationship, +1 indicates a perfect positive relationship, and 0 indicates no relationship at all.\n",
    "\n",
    "In statistical analysis, both covariance and correlation are used to understand the relationship between two variables. However, correlation is generally preferred over covariance because it is standardized and easier to interpret. Correlation is also used to identify trends, make predictions, and develop models in regression analysis. Covariance is used less frequently, but it can still be useful in certain situations, such as portfolio analysis in finance.\n",
    "\n",
    "Overall, while both covariance and correlation measure the relationship between two variables, correlation is a more commonly used measure due to its standardization and interpretability."
   ]
  },
  {
   "cell_type": "markdown",
   "id": "133f8d20-2efc-4910-9a2a-58b052e7f816",
   "metadata": {},
   "source": [
    "Q11. What is the formula for calculating the sample mean? Provide an example calculation for a dataset.\n",
    "\n",
    "Answer :  The formula for calculating the sample mean is:\n",
    "sample mean = sum of all observations / number of observations\n"
   ]
  },
  {
   "cell_type": "code",
   "execution_count": 12,
   "id": "ee3948df-491b-482a-ab55-d5997514f1d4",
   "metadata": {},
   "outputs": [
    {
     "name": "stdout",
     "output_type": "stream",
     "text": [
      "The sample mean is: 84.7\n"
     ]
    }
   ],
   "source": [
    "scores = [78, 92, 85, 90, 87, 74, 80, 82, 88, 91]\n",
    "\n",
    "sum_scores = sum(scores)\n",
    "\n",
    "n_scores = len(scores)\n",
    "\n",
    "sample_mean = sum_scores / n_scores\n",
    "\n",
    "print(\"The sample mean is:\", sample_mean)\n"
   ]
  },
  {
   "cell_type": "markdown",
   "id": "37fc0506-2765-4951-abb4-d70475c17767",
   "metadata": {},
   "source": [
    "Q12. For a normal distribution data what is the relationship between its measure of central tendency?\n",
    "\n",
    "Answer :  For a normal distribution data, the measures of central tendency, namely mean, median, and mode, are equal to each other.\n",
    "\n",
    "This is because the normal distribution is a symmetric distribution, which means that the left half of the distribution is a mirror image of the right half. Therefore, the mean, median, and mode will all be located at the center of the distribution.\n",
    "\n",
    "In fact, for any symmetric distribution, the mean, median, and mode will all be equal. However, for skewed distributions, the mean, median, and mode will generally be different, and the relationship between them will depend on the shape of the distribution."
   ]
  },
  {
   "cell_type": "markdown",
   "id": "4a365890-3f93-45d3-8708-65cbad9be1e3",
   "metadata": {},
   "source": [
    "Q13. How is covariance different from correlation?\n",
    "\n",
    "Answer :  Covariance and correlation are both measures of the relationship between two variables, but they differ in their scale and interpretation.\n",
    "\n",
    "Covariance is a measure of the degree to which two variables vary together. It measures the joint variability of two random variables and is sensitive to the units of measurement. Covariance can be positive, indicating that the two variables tend to move in the same direction, or negative, indicating that they tend to move in opposite directions. However, covariance does not provide any information about the strength or direction of the relationship between the two variables.\n",
    "\n",
    "On the other hand, correlation is a standardized measure of the linear relationship between two variables. It ranges from -1 to +1, where -1 indicates a perfect negative relationship, +1 indicates a perfect positive relationship, and 0 indicates no relationship at all. Correlation is not affected by the units of measurement, and it provides information about both the strength and direction of the relationship between the two variables.\n",
    "\n",
    "In summary, covariance is a measure of the joint variability of two variables, while correlation is a measure of the linear relationship between two variables that has been standardized to eliminate the influence of the scale or units of measurement."
   ]
  },
  {
   "cell_type": "markdown",
   "id": "d4ac5de2-9324-45b2-abb0-fbfc134eaec4",
   "metadata": {},
   "source": [
    "Q14. How do outliers affect measures of central tendency and dispersion? Provide an example.\n",
    "\n",
    "Answer :  Outliers are data points that are significantly different from other data points in a dataset. They can have a significant effect on measures of central tendency and dispersion, especially on the mean and standard deviation.\n",
    "\n",
    "For example, consider the following dataset of exam scores:"
   ]
  },
  {
   "cell_type": "code",
   "execution_count": 13,
   "id": "d185a123-cf31-4c01-ae24-89c1ca9e0f0b",
   "metadata": {},
   "outputs": [],
   "source": [
    "scores = [78, 92, 85, 90, 87, 74, 80, 82, 88, 191]\n"
   ]
  },
  {
   "cell_type": "markdown",
   "id": "6325ed4b-91d9-4ef7-b74c-fa5aacadfc87",
   "metadata": {},
   "source": [
    "In this dataset, the score of 191 is an outlier, as it is significantly higher than the other scores. If we calculate the measures of central tendency and dispersion for this dataset, we get:"
   ]
  },
  {
   "cell_type": "code",
   "execution_count": 14,
   "id": "fb0811f2-5e7f-43b4-9d54-95b47cede279",
   "metadata": {},
   "outputs": [
    {
     "name": "stdout",
     "output_type": "stream",
     "text": [
      "Mean: 94.7\n",
      "Median: 86.0\n",
      "Standard deviation: 32.53628743418646\n"
     ]
    }
   ],
   "source": [
    "import numpy as np\n",
    "\n",
    "scores = [78, 92, 85, 90, 87, 74, 80, 82, 88, 191]\n",
    "mean = np.mean(scores)\n",
    "print(\"Mean:\", mean)\n",
    "\n",
    "median = np.median(scores)\n",
    "print(\"Median:\", median)\n",
    "\n",
    "std_dev = np.std(scores)\n",
    "print(\"Standard deviation:\", std_dev)\n"
   ]
  },
  {
   "cell_type": "markdown",
   "id": "5a3397a0-ce9f-4454-a6fc-f18816db99b1",
   "metadata": {},
   "source": [
    "The mean is higher than the median, indicating that the presence of the outlier has pulled the mean upward. The standard deviation is also higher than it would be without the outlier, indicating that the data is more spread out than it would be without the outlier.\n",
    "\n",
    "In general, outliers can have a significant impact on the mean and standard deviation, as they pull these measures in the direction of the outlier. This can make the data appear more spread out or less representative of the true distribution. However, outliers have less of an impact on the median and other measures of central tendency that are less affected by extreme values."
   ]
  },
  {
   "cell_type": "code",
   "execution_count": null,
   "id": "f8fb533b-a5bc-4703-8f7e-f98e4a2a3262",
   "metadata": {},
   "outputs": [],
   "source": []
  }
 ],
 "metadata": {
  "kernelspec": {
   "display_name": "Python 3 (ipykernel)",
   "language": "python",
   "name": "python3"
  },
  "language_info": {
   "codemirror_mode": {
    "name": "ipython",
    "version": 3
   },
   "file_extension": ".py",
   "mimetype": "text/x-python",
   "name": "python",
   "nbconvert_exporter": "python",
   "pygments_lexer": "ipython3",
   "version": "3.10.8"
  }
 },
 "nbformat": 4,
 "nbformat_minor": 5
}
