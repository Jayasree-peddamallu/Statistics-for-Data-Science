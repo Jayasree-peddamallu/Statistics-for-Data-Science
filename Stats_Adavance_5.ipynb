{
 "cells": [
  {
   "cell_type": "markdown",
   "id": "bd3db114-0cd6-4005-9f66-b1555ae7e129",
   "metadata": {},
   "source": [
    "Q1. Calculate the 95% confidence interval for a sample of data with a mean of 50 and a standard deviation\n",
    "of 5 using Python. Interpret the results.\n",
    "\n"
   ]
  },
  {
   "cell_type": "code",
   "execution_count": 1,
   "id": "fa29661d-10cf-4d7a-9f5d-263f9854c57e",
   "metadata": {},
   "outputs": [
    {
     "name": "stdout",
     "output_type": "stream",
     "text": [
      "The 95% confidence interval is: (49.02001800772997, 50.97998199227003)\n"
     ]
    }
   ],
   "source": [
    "import scipy.stats as stats\n",
    "\n",
    "sample_mean = 50\n",
    "sample_std = 5\n",
    "n = 100 \n",
    "# Calculating the standard error of the mean\n",
    "std_error = sample_std / (n**0.5)\n",
    "\n",
    "# Calculating the 95% confidence interval\n",
    "conf_interval = stats.norm.interval(0.95, loc=sample_mean, scale=std_error)\n",
    "\n",
    "print(\"The 95% confidence interval is:\", conf_interval)\n"
   ]
  },
  {
   "cell_type": "markdown",
   "id": "97a1fb28-dd8c-431a-be5a-0c2989541f0a",
   "metadata": {},
   "source": [
    "Q2. Conduct a chi-square goodness of fit test to determine if the distribution of colors of M&Ms in a bag\n",
    "matches the expected distribution of 20% blue, 20% orange, 20% green, 10% yellow, 10% red, and 20%\n",
    "brown. Use Python to perform the test with a significance level of 0.05.\n",
    "\n"
   ]
  },
  {
   "cell_type": "code",
   "execution_count": 3,
   "id": "9bf1651d-3ea6-4545-920e-71d4adc9db54",
   "metadata": {},
   "outputs": [
    {
     "name": "stdout",
     "output_type": "stream",
     "text": [
      "There is significant evidence to reject the null hypothesis.\n",
      "Chi-square test statistic: 12.5\n",
      "p-value: 0.028543123326167485\n"
     ]
    }
   ],
   "source": [
    "import numpy as np\n",
    "import scipy.stats as stats\n",
    "\n",
    "# Observed counts\n",
    "observed = np.array([10, 20, 25, 15, 5, 25])\n",
    "\n",
    "# Expected counts (adjusted)\n",
    "expected = np.array([0.2, 0.2, 0.2, 0.1, 0.1, 0.2]) * np.sum(observed)\n",
    "\n",
    "# Degrees of freedom\n",
    "df = len(observed) - 1\n",
    "\n",
    "# Calculating the chi-square test statistic and p-value\n",
    "chi2, p = stats.chisquare(observed, expected)\n",
    "\n",
    "# Comparing the p-value with the significance level\n",
    "alpha = 0.05\n",
    "if p < alpha:\n",
    "    print(\"There is significant evidence to reject the null hypothesis.\")\n",
    "else:\n",
    "    print(\"There is not enough evidence to reject the null hypothesis.\")\n",
    "\n",
    "print(\"Chi-square test statistic:\", chi2)\n",
    "print(\"p-value:\", p)\n"
   ]
  },
  {
   "attachments": {
    "aa3256eb-5a1d-4cef-b41e-5bf9b4b4cc4b.png": {
     "image/png": "[encoded data removed]"
    }
   },
   "cell_type": "markdown",
   "id": "ed8c9c54-14c4-444f-9b65-e3fc3a073bff",
   "metadata": {},
   "source": [
    "Q3. Use Python to calculate the chi-square statistic and p-value for a contingency table with the following\n",
    "data:\n",
    "Interpret the results of the test.\n",
    "\n",
    "\n",
    "![image.png](attachment:aa3256eb-5a1d-4cef-b41e-5bf9b4b4cc4b.png)"
   ]
  },
  {
   "cell_type": "code",
   "execution_count": 4,
   "id": "9c07332b-2afa-4814-8c99-d455807ac842",
   "metadata": {},
   "outputs": [
    {
     "name": "stdout",
     "output_type": "stream",
     "text": [
      "Chi-square test statistic: 5.833333333333334\n",
      "p-value: 0.05411376622282158\n",
      "Degrees of freedom: 2\n",
      "Expected frequencies:\n",
      " [[15. 20.]\n",
      " [15. 20.]\n",
      " [15. 20.]]\n",
      "There is not enough evidence to reject the null hypothesis.\n"
     ]
    }
   ],
   "source": [
    "import numpy as np\n",
    "import scipy.stats as stats\n",
    "\n",
    "# Create the contingency table\n",
    "observed = np.array([[20, 15], [10, 25], [15, 20]])\n",
    "\n",
    "# Calculate the chi-square test statistic and p-value\n",
    "chi2, p, dof, expected = stats.chi2_contingency(observed)\n",
    "\n",
    "# Print the results\n",
    "print(\"Chi-square test statistic:\", chi2)\n",
    "print(\"p-value:\", p)\n",
    "print(\"Degrees of freedom:\", dof)\n",
    "print(\"Expected frequencies:\\n\", expected)\n",
    "\n",
    "# Interpret the results\n",
    "alpha = 0.05\n",
    "if p < alpha:\n",
    "    print(\"There is significant evidence to reject the null hypothesis.\")\n",
    "else:\n",
    "    print(\"There is not enough evidence to reject the null hypothesis.\")\n"
   ]
  },
  {
   "cell_type": "markdown",
   "id": "bcddb328-cadd-4a8f-b278-3fd3f2029fc2",
   "metadata": {},
   "source": [
    "Q4. A study of the prevalence of smoking in a population of 500 individuals found that 60 individuals\n",
    "smoked. Use Python to calculate the 95% confidence interval for the true proportion of individuals in the\n",
    "population who smoke.\n",
    "\n",
    "Answer : To calculate the 95% confidence interval for the proportion of individuals in the population who smoke, we can use the following formula:\n",
    "\n",
    "CI = (p ± z*SE)\n",
    "\n",
    "where p is the sample proportion, z is the z-score corresponding to the desired level of confidence (0.95 in this case), and SE is the standard error of the proportion, given by:\n",
    "\n",
    "SE = sqrt((p*(1-p))/n)\n",
    "\n",
    "where n is the sample size."
   ]
  },
  {
   "cell_type": "code",
   "execution_count": 5,
   "id": "122b1c23-f325-49a0-8195-ecb1c2f55ddb",
   "metadata": {},
   "outputs": [
    {
     "name": "stdout",
     "output_type": "stream",
     "text": [
      "95% Confidence Interval: [0.0915, 0.1485]\n"
     ]
    }
   ],
   "source": [
    "import math\n",
    "import scipy.stats as stats\n",
    "\n",
    "n = 500\n",
    "p = 60/500\n",
    "z = stats.norm.ppf(0.975)\n",
    "SE = math.sqrt((p*(1-p))/n)\n",
    "\n",
    "lower = p - z*SE\n",
    "upper = p + z*SE\n",
    "\n",
    "print(f\"95% Confidence Interval: [{lower:.4f}, {upper:.4f}]\")\n"
   ]
  },
  {
   "cell_type": "markdown",
   "id": "61a045af-1c46-4660-a8e4-6de7196b866d",
   "metadata": {},
   "source": [
    "Q5. Calculate the 90% confidence interval for a sample of data with a mean of 75 and a standard deviation\n",
    "of 12 using Python. Interpret the results.\n",
    "\n",
    "Answer : To calculate the 90% confidence interval for a sample with a mean of 75 and a standard deviation of 12, we can use the following formula:\n",
    "\n",
    "CI = (x̄ ± z*(σ/√n))\n",
    "\n",
    "where x̄ is the sample mean, σ is the population standard deviation, n is the sample size, z is the z-score corresponding to the desired level of confidence (0.90 in this case), and √n is the square root of the sample size."
   ]
  },
  {
   "cell_type": "code",
   "execution_count": 6,
   "id": "e48abcfb-dde5-489a-b382-e51759e055af",
   "metadata": {},
   "outputs": [
    {
     "name": "stdout",
     "output_type": "stream",
     "text": [
      "90% Confidence Interval: [73.0262, 76.9738]\n"
     ]
    }
   ],
   "source": [
    "import scipy.stats as stats\n",
    "\n",
    "n = 100\n",
    "mean = 75\n",
    "std = 12\n",
    "z = stats.norm.ppf(0.95) # Since 90% confidence level is 1 - alpha = 0.90, thus alpha = 0.10, then we need to find the z-value that corresponds to the upper tail probability of 0.10\n",
    "\n",
    "lower = mean - z*(std/(n**0.5))\n",
    "upper = mean + z*(std/(n**0.5))\n",
    "\n",
    "print(f\"90% Confidence Interval: [{lower:.4f}, {upper:.4f}]\")\n"
   ]
  },
  {
   "cell_type": "markdown",
   "id": "d82e9e2c-fa85-4800-9439-9b1964b01f8b",
   "metadata": {},
   "source": [
    "Q6. Use Python to plot the chi-square distribution with 10 degrees of freedom. Label the axes and shade the\n",
    "area corresponding to a chi-square statistic of 15.\n",
    "\n"
   ]
  },
  {
   "cell_type": "code",
   "execution_count": 7,
   "id": "2213260f-6534-486f-8ff9-6386d603cdde",
   "metadata": {},
   "outputs": [
    {
     "data": {
      "image/png": "[encoded data removed]",
      "text/plain": [
       "<Figure size 640x480 with 1 Axes>"
      ]
     },
     "metadata": {},
     "output_type": "display_data"
    }
   ],
   "source": [
    "import numpy as np\n",
    "import matplotlib.pyplot as plt\n",
    "from scipy.stats import chi2\n",
    "\n",
    "# Define the degrees of freedom\n",
    "df = 10\n",
    "\n",
    "# Define the range of x values\n",
    "x = np.linspace(0, 30, 200)\n",
    "\n",
    "# Plot the chi-square distribution\n",
    "plt.plot(x, chi2.pdf(x, df), 'b-', lw=2)\n",
    "\n",
    "# Shade the area corresponding to a chi-square statistic of 15\n",
    "x_shade = np.linspace(15, 30, 100)\n",
    "y_shade = chi2.pdf(x_shade, df)\n",
    "plt.fill_between(x_shade, y_shade, color='blue', alpha=0.5)\n",
    "\n",
    "# Label the axes\n",
    "plt.xlabel('Chi-Square Statistic')\n",
    "plt.ylabel('Density')\n",
    "\n",
    "# Show the plot\n",
    "plt.show()\n"
   ]
  },
  {
   "cell_type": "markdown",
   "id": "653ba432-88ed-4ea6-a2e3-f704eef3471b",
   "metadata": {},
   "source": [
    "Q7. A random sample of 1000 people was asked if they preferred Coke or Pepsi. Of the sample, 520\n",
    "preferred Coke. Calculate a 99% confidence interval for the true proportion of people in the population who\n",
    "prefer Coke.\n",
    "\n",
    "Answer : To calculate the 99% confidence interval for the true proportion of people in the population who prefer Coke, we can use the following formula:\n",
    "\n",
    "CI = p̂ ± z*√(p̂(1-p̂)/n)\n",
    "\n",
    "Where:\n",
    "\n",
    "p̂ is the sample proportion (520/1000 = 0.52)\n",
    "z is the z-score corresponding to a 99% confidence level, which is 2.576 for a two-tailed test\n",
    "n is the sample size (1000)\n",
    "√ represents the square root\n",
    "Plugging in the values, we get:\n",
    "\n",
    "CI = 0.52 ± 2.576*√(0.52(1-0.52)/1000)\n",
    "\n",
    "CI = 0.52 ± 0.049\n",
    "\n",
    "CI = (0.471, 0.569)\n",
    "\n",
    "Therefore, we can say with 99% confidence that the true proportion of people in the population who prefer Coke is between 47.1% and 56.9%."
   ]
  },
  {
   "cell_type": "markdown",
   "id": "655b1dde-c055-46a3-a475-f5ad45a11478",
   "metadata": {},
   "source": [
    "Q8. A researcher hypothesizes that a coin is biased towards tails. They flip the coin 100 times and observe\n",
    "45 tails. Conduct a chi-square goodness of fit test to determine if the observed frequencies match the\n",
    "expected frequencies of a fair coin. Use a significance level of 0.05.\n",
    "\n",
    "Answer : To conduct a chi-square goodness of fit test to determine if the observed frequencies match the expected frequencies of a fair coin, we can follow these steps:\n",
    "\n",
    "Step 1: State the null and alternative hypotheses.\n",
    "\n",
    "The null hypothesis is that the observed frequencies match the expected frequencies of a fair coin, and the alternative hypothesis is that the observed frequencies do not match the expected frequencies of a fair coin.\n",
    "\n",
    "H0: The coin is fair (i.e., p = 0.5)\n",
    "Ha: The coin is biased towards tails (i.e., p < 0.5)\n",
    "\n",
    "Step 2: Determine the expected frequencies.\n",
    "\n",
    "If the coin is fair, we would expect to see 50% heads and 50% tails in 100 flips. Therefore, the expected frequencies are:\n",
    "\n",
    "Expected frequency of heads: 100 * 0.5 = 50\n",
    "Expected frequency of tails: 100 * 0.5 = 50\n",
    "\n",
    "Step 3: Calculate the test statistic.\n",
    "\n",
    "The chi-square test statistic for a goodness of fit test is calculated using the following formula:\n",
    "\n",
    "χ2 = ∑(O-E)²/E\n",
    "\n",
    "Where:\n",
    "\n",
    "χ2 is the chi-square test statistic\n",
    "O is the observed frequency\n",
    "E is the expected frequency\n",
    "Plugging in the observed and expected frequencies, we get:\n",
    "\n",
    "χ2 = [(45-50)²/50] + [(55-50)²/50]\n",
    "χ2 = 1\n",
    "\n",
    "Step 4: Determine the degrees of freedom.\n",
    "\n",
    "The degrees of freedom for a goodness of fit test are calculated as:\n",
    "\n",
    "df = k - 1\n",
    "\n",
    "Where k is the number of categories. In this case, we have two categories (heads and tails), so k = 2. Therefore:\n",
    "\n",
    "df = 2 - 1 = 1\n",
    "\n",
    "Step 5: Determine the critical value and p-value.\n",
    "\n",
    "Using a significance level of 0.05 and 1 degree of freedom, we can find the critical value from a chi-square distribution table or calculator. The critical value is 3.84.\n",
    "\n",
    "We can also find the p-value using a chi-square distribution table or calculator. The p-value is the probability of getting a test statistic as extreme or more extreme than the observed, assuming the null hypothesis is true. In this case, the p-value is 0.3173.\n",
    "\n",
    "Step 6: Make a decision.\n",
    "\n",
    "Since the test statistic (χ2 = 1) is less than the critical value (3.84) and the p-value (0.3173) is greater than the significance level (0.05), we fail to reject the null hypothesis.\n",
    "\n",
    "Therefore, we do not have enough evidence to conclude that the coin is biased towards tails. The observed frequencies are consistent with the expected frequencies of a fair coin."
   ]
  },
  {
   "attachments": {
    "9e8ecadf-ceec-4025-bf3e-6e83256e2502.png": {
     "image/png": "[encoded data removed]"
    }
   },
   "cell_type": "markdown",
   "id": "7d9251e5-3e16-4df5-8b00-a9200f9e24bf",
   "metadata": {},
   "source": [
    "Q9. A study was conducted to determine if there is an association between smoking status (smoker or\n",
    "non-smoker) and lung cancer diagnosis (yes or no). The results are shown in the contingency table below.\n",
    "Conduct a chi-square test for independence to determine if there is a significant association between\n",
    "smoking status and lung cancer diagnosis.\n",
    "Use a significance level of 0.05.\n",
    "\n",
    "![image.png](attachment:9e8ecadf-ceec-4025-bf3e-6e83256e2502.png)\n",
    "\n",
    "Answer :  To conduct a chi-square test for independence, we need to determine the observed frequencies, expected frequencies, degrees of freedom, and the critical value for a significance level of 0.05.\n",
    "\n",
    "Observed Frequencies:\n",
    "Lung Cancer: Yes Lung Cancer: No\n",
    "Smoker 60 140\n",
    "Non-smoker 30 170\n",
    "\n",
    "Total number of smokers = 60 + 140 = 200\n",
    "Total number of non-smokers = 30 + 170 = 200\n",
    "Total number of individuals with lung cancer = 60 + 30 = 90\n",
    "Total number of individuals without lung cancer = 140 + 170 = 310\n",
    "\n",
    "Expected Frequencies:\n",
    "We can calculate the expected frequencies for each cell by multiplying the row total and the column total and then dividing by the grand total.\n",
    "Lung Cancer: Yes Lung Cancer: No\n",
    "Smoker (20090)/400 = 45 (200310)/400 = 155\n",
    "Non-smoker (20090)/400 = 45 (200310)/400 = 155\n",
    "\n",
    "Degrees of Freedom:\n",
    "The degrees of freedom (df) for a chi-square test for independence can be calculated as (r-1)(c-1), where r is the number of rows and c is the number of columns in the contingency table.\n",
    "In this case, df = (2-1)(2-1) = 1\n",
    "\n",
    "Critical Value:\n",
    "We can look up the critical value for a chi-square distribution with 1 degree of freedom and a significance level of 0.05 in a chi-square table. The critical value is 3.84.\n",
    "\n",
    "Chi-Square Test Calculation:\n",
    "We can now calculate the chi-square test statistic using the formula:\n",
    "\n",
    "χ² = Σ[(O - E)²/E]\n",
    "\n",
    "where Σ is the sum of all cells in the contingency table, O is the observed frequency, and E is the expected frequency.\n",
    "\n",
    "Using the observed and expected frequencies, we can calculate the chi-square test statistic as follows:\n",
    "\n",
    "χ² = [(60-45)²/45] + [(140-155)²/155] + [(30-45)²/45] + [(170-155)²/155]\n",
    "= 5.78\n",
    "\n",
    "Since the calculated chi-square test statistic (5.78) is less than the critical value (3.84), we fail to reject the null hypothesis. Therefore, we can conclude that there is no significant association between smoking status and lung cancer diagnosis at a significance level of 0.05."
   ]
  },
  {
   "attachments": {
    "aed2dcbb-f6ee-41fe-bc3f-3fb4b0c10cbb.png": {
     "image/png": "[encoded data removed]"
    }
   },
   "cell_type": "markdown",
   "id": "7f327cd0-6a17-4554-b405-e4cd38114ac6",
   "metadata": {},
   "source": [
    "Q10. A study was conducted to determine if the proportion of people who prefer milk chocolate, dark\n",
    "chocolate, or white chocolate is different in the U.S. versus the U.K. A random sample of 500 people from\n",
    "the U.S. and a random sample of 500 people from the U.K. were surveyed. The results are shown in the\n",
    "contingency table below. Conduct a chi-square test for independence to determine if there is a significant\n",
    "association between chocolate preference and country of origin.\n",
    "Use a significance level of 0.01.\n",
    "\n",
    "![image.png](attachment:aed2dcbb-f6ee-41fe-bc3f-3fb4b0c10cbb.png)\n",
    "\n",
    "\n",
    "Answer :  To conduct a chi-square test for independence, we need to determine the observed frequencies, expected frequencies, degrees of freedom, and the critical value for a significance level of 0.01.\n",
    "\n",
    "Observed Frequencies:\n",
    "\n",
    "U.S. (n=500) 200 150 150\n",
    "U.K. (n=500) 225 175 100\n",
    "\n",
    "Total number of respondents from the U.S. = 500\n",
    "Total number of respondents from the U.K. = 500\n",
    "Total number of respondents who prefer Milk Chocolate = 200 + 225 = 425\n",
    "Total number of respondents who prefer Dark Chocolate = 150 + 175 = 325\n",
    "Total number of respondents who prefer White Chocolate = 150 + 100 = 250\n",
    "\n",
    "Expected Frequencies:\n",
    "\n",
    "We can calculate the expected frequencies for each cell by multiplying the row total and the column total and then dividing by the grand total.\n",
    "\n",
    "U.S. (n=500) (425500)/1000 = 212.5 (325500)/1000 = 162.5 (250500)/1000 = 125\n",
    "U.K. (n=500) (425500)/1000 = 212.5 (325500)/1000 = 162.5 (250500)/1000 = 125\n",
    "\n",
    "Degrees of Freedom:\n",
    "\n",
    "The degrees of freedom (df) for a chi-square test for independence can be calculated as (r-1)*(c-1), where r is the number of rows and c is the number of columns in the contingency table.\n",
    "\n",
    "In this case, df = (2-1)*(3-1) = 2\n",
    "\n",
    "Critical Value:\n",
    "\n",
    "We can look up the critical value for a chi-square distribution with 2 degrees of freedom and a significance level of 0.01 in a chi-square table. The critical value is 9.21.\n",
    "\n",
    "Chi-Square Test Calculation:\n",
    "\n",
    "We can now calculate the chi-square test statistic using the formula:\n",
    "\n",
    "χ² = Σ[(O - E)²/E]\n",
    "\n",
    "where Σ is the sum of all cells in the contingency table, O is the observed frequency, and E is the expected frequency.\n",
    "\n",
    "Using the observed and expected frequencies, we can calculate the chi-square test statistic as follows:\n",
    "\n",
    "χ² = [(200-212.5)²/212.5] + [(150-162.5)²/162.5] + [(150-125)²/125] + [(225-212.5)²/212.5] + [(175-162.5)²/162.5] + [(100-125)²/125]\n",
    "= 18.56\n",
    "\n",
    "Since the calculated chi-square test statistic (18.56) is greater than the critical value (9.21), we reject the null hypothesis. Therefore, we can conclude that there is a significant association between chocolate preference and country of origin at a significance level of 0.01."
   ]
  },
  {
   "cell_type": "markdown",
   "id": "0d3bbafe-5457-468c-8f4f-7d8fc78c5b13",
   "metadata": {},
   "source": [
    "Q11. A random sample of 30 people was selected from a population with an unknown mean and standard\n",
    "deviation. The sample mean was found to be 72 and the sample standard deviation was found to be 10.\n",
    "Conduct a hypothesis test to determine if the population mean is significantly different from 70. Use a\n",
    "significance level of 0.05.\n",
    "\n",
    "Answer : To conduct a hypothesis test for the population mean, we need to define our null and alternative hypotheses, calculate the test statistic, and compare it to the critical value or p-value.\n",
    "\n",
    "Null Hypothesis:\n",
    "H0: μ = 70 (The population mean is equal to 70)\n",
    "\n",
    "Alternative Hypothesis:\n",
    "Ha: μ ≠ 70 (The population mean is significantly different from 70)\n",
    "\n",
    "Level of Significance:\n",
    "α = 0.05\n",
    "\n",
    "Test Statistic:\n",
    "We can calculate the test statistic using the formula:\n",
    "\n",
    "t = (x̄ - μ) / (s / √n)\n",
    "\n",
    "where x̄ is the sample mean, μ is the hypothesized population mean, s is the sample standard deviation, and n is the sample size.\n",
    "\n",
    "In this case, x̄ = 72, μ = 70, s = 10, and n = 30. Therefore, the test statistic can be calculated as follows:\n",
    "\n",
    "t = (72 - 70) / (10 / √30)\n",
    "= 1.385\n",
    "\n",
    "Degrees of Freedom:\n",
    "The degrees of freedom (df) for a t-test can be calculated as (n - 1), where n is the sample size. In this case, df = 29.\n",
    "\n",
    "Critical Value:\n",
    "We can find the critical value for a two-tailed t-test with 29 degrees of freedom and a significance level of 0.05 using a t-distribution table or a statistical software. The critical values are ±2.045.\n",
    "\n",
    "P-Value:\n",
    "Alternatively, we can find the p-value associated with the test statistic using a t-distribution table or a statistical software. The p-value for a two-tailed test with a t-statistic of 1.385 and 29 degrees of freedom is approximately 0.177.\n",
    "\n",
    "Conclusion:\n",
    "Since the calculated t-value (1.385) is less than the critical value (±2.045) and the p-value (0.177) is greater than the significance level (0.05), we fail to reject the null hypothesis. Therefore, we can conclude that there is not enough evidence to suggest that the population mean is significantly different from 70 at a significance level of 0.05."
   ]
  },
  {
   "cell_type": "code",
   "execution_count": null,
   "id": "17b33bf4-641b-4e1f-99fc-c36eebd6eaf3",
   "metadata": {},
   "outputs": [],
   "source": []
  }
 ],
 "metadata": {
  "kernelspec": {
   "display_name": "Python 3 (ipykernel)",
   "language": "python",
   "name": "python3"
  },
  "language_info": {
   "codemirror_mode": {
    "name": "ipython",
    "version": 3
   },
   "file_extension": ".py",
   "mimetype": "text/x-python",
   "name": "python",
   "nbconvert_exporter": "python",
   "pygments_lexer": "ipython3",
   "version": "3.10.8"
  }
 },
 "nbformat": 4,
 "nbformat_minor": 5
}
